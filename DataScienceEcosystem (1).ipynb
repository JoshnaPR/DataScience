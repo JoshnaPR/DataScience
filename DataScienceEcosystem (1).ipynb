{
  "cells": [
    {
      "cell_type": "markdown",
      "metadata": {
        "id": "nLO5GeWhwci6"
      },
      "source": [
        "<center>\n",
        "    <img src=\"https://cf-courses-data.s3.us.cloud-object-storage.appdomain.cloud/IBMDeveloperSkillsNetwork-DS0105EN-SkillsNetwork/labs/Module2/images/SN_web_lightmode.png\" width=\"300\" alt=\"cognitiveclass.ai logo\">\n",
        "</center>\n"
      ]
    },
    {
      "cell_type": "markdown",
      "metadata": {
        "id": "DYZjtJApwci9"
      },
      "source": [
        "#### Add your code below following the instructions given in the course\n"
      ]
    },
    {
      "cell_type": "markdown",
      "source": [
        "#Data Science Tools and Ecosystem"
      ],
      "metadata": {
        "id": "oCsnGeGIwn94"
      }
    },
    {
      "cell_type": "markdown",
      "source": [
        "In this notebook, Data Science Tools and Ecosystems are summarized."
      ],
      "metadata": {
        "id": "PudvCAwXx5my"
      }
    },
    {
      "cell_type": "markdown",
      "source": [
        "***Objectives: ***\n",
        "\n",
        "\n",
        "*   List popular languages used by Data Scientists\n",
        "*   List commonly used libraries\n",
        "*   Create a table of Open Source Development Environment tools\n",
        "*   List examples of arithmetic expressions\n",
        "\n"
      ],
      "metadata": {
        "id": "ufrtvMZo9vjo"
      }
    },
    {
      "cell_type": "markdown",
      "source": [
        "Some of the popular languages that Data Scientists use are:\n",
        "\n",
        "1.   Python\n",
        "2.   R\n",
        "3.   SQL\n",
        "4.   Julia\n",
        "5.   Java\n",
        "\n",
        "\n"
      ],
      "metadata": {
        "id": "vehbuYuQ0Cis"
      }
    },
    {
      "cell_type": "markdown",
      "source": [
        "Some of the commonly used libraries used by Data Scientists include:\n",
        "\n",
        "\n",
        "1.   Pandas\n",
        "2.   NumPy\n",
        "3.   Matplotlib\n",
        "4.   SciKit-Learn\n",
        "\n"
      ],
      "metadata": {
        "id": "DE4B45vs01ie"
      }
    },
    {
      "cell_type": "markdown",
      "source": [
        "| Data Science Tools |\n",
        "| ------------------ |\n",
        "|      VS Code       |\n",
        "|      GitLab        |\n",
        "|     Bootstrap      |"
      ],
      "metadata": {
        "id": "fWEGFIoM11tQ"
      }
    },
    {
      "cell_type": "markdown",
      "source": [
        "### Below are a few examples of evaluating arithmetic expressions in Python ###\n",
        "\n",
        "5+5  \n",
        "\n",
        "5-5  \n",
        "\n",
        "5*5  \n",
        "\n",
        "5/5  \n",
        "\n",
        "5**5"
      ],
      "metadata": {
        "id": "SjPhQeTS5jzs"
      }
    },
    {
      "cell_type": "code",
      "source": [
        "# This is a simple artithmetic expression to multiply and then add integers\n",
        "\n",
        "(3*4)+5"
      ],
      "metadata": {
        "colab": {
          "base_uri": "https://localhost:8080/"
        },
        "id": "tQtFndsW7pSc",
        "outputId": "2e79d14e-ef6a-49c6-b102-46f545e900c3"
      },
      "execution_count": null,
      "outputs": [
        {
          "output_type": "execute_result",
          "data": {
            "text/plain": [
              "17"
            ]
          },
          "metadata": {},
          "execution_count": 2
        }
      ]
    },
    {
      "cell_type": "code",
      "source": [
        "# This will convert 200 minutes into hours by dividing by 60\n",
        "\n",
        "z= 200/60\n",
        "print(z, \"hours\")"
      ],
      "metadata": {
        "colab": {
          "base_uri": "https://localhost:8080/"
        },
        "id": "Dfh_MaOZ8Yfx",
        "outputId": "1b0c01b3-d166-4a69-b0c2-e3cf6b34f764"
      },
      "execution_count": null,
      "outputs": [
        {
          "output_type": "stream",
          "name": "stdout",
          "text": [
            "3.3333333333333335 hours\n"
          ]
        }
      ]
    },
    {
      "cell_type": "markdown",
      "source": [
        "## Author ##\n",
        "Joshna"
      ],
      "metadata": {
        "id": "UnJeOa80_XXs"
      }
    }
  ],
  "metadata": {
    "kernelspec": {
      "display_name": "Python",
      "language": "python",
      "name": "conda-env-python-py"
    },
    "language_info": {
      "name": ""
    },
    "colab": {
      "provenance": []
    }
  },
  "nbformat": 4,
  "nbformat_minor": 0
}